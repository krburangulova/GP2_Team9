{
  "nbformat": 4,
  "nbformat_minor": 0,
  "metadata": {
    "colab": {
      "provenance": []
    },
    "kernelspec": {
      "name": "python3",
      "display_name": "Python 3"
    },
    "language_info": {
      "name": "python"
    }
  },
  "cells": [
    {
      "cell_type": "markdown",
      "source": [
        "Для получения всех сслылок с подробным описанием ресторана (для каждого ресторна) используем selenium."
      ],
      "metadata": {
        "id": "lS5D6M9s4-8J"
      }
    },
    {
      "cell_type": "code",
      "source": [
        "!pip install selenium #устанавливаем библиотеку"
      ],
      "metadata": {
        "colab": {
          "base_uri": "https://localhost:8080/"
        },
        "id": "KXpRhcDb56vU",
        "outputId": "8fdfb602-7844-4d62-93f0-888fc5609077",
        "collapsed": true
      },
      "execution_count": 160,
      "outputs": [
        {
          "output_type": "stream",
          "name": "stdout",
          "text": [
            "Requirement already satisfied: selenium in /usr/local/lib/python3.11/dist-packages (4.29.0)\n",
            "Requirement already satisfied: urllib3<3,>=1.26 in /usr/local/lib/python3.11/dist-packages (from urllib3[socks]<3,>=1.26->selenium) (2.3.0)\n",
            "Requirement already satisfied: trio~=0.17 in /usr/local/lib/python3.11/dist-packages (from selenium) (0.29.0)\n",
            "Requirement already satisfied: trio-websocket~=0.9 in /usr/local/lib/python3.11/dist-packages (from selenium) (0.12.2)\n",
            "Requirement already satisfied: certifi>=2021.10.8 in /usr/local/lib/python3.11/dist-packages (from selenium) (2025.1.31)\n",
            "Requirement already satisfied: typing_extensions~=4.9 in /usr/local/lib/python3.11/dist-packages (from selenium) (4.12.2)\n",
            "Requirement already satisfied: websocket-client~=1.8 in /usr/local/lib/python3.11/dist-packages (from selenium) (1.8.0)\n",
            "Requirement already satisfied: attrs>=23.2.0 in /usr/local/lib/python3.11/dist-packages (from trio~=0.17->selenium) (25.1.0)\n",
            "Requirement already satisfied: sortedcontainers in /usr/local/lib/python3.11/dist-packages (from trio~=0.17->selenium) (2.4.0)\n",
            "Requirement already satisfied: idna in /usr/local/lib/python3.11/dist-packages (from trio~=0.17->selenium) (3.10)\n",
            "Requirement already satisfied: outcome in /usr/local/lib/python3.11/dist-packages (from trio~=0.17->selenium) (1.3.0.post0)\n",
            "Requirement already satisfied: sniffio>=1.3.0 in /usr/local/lib/python3.11/dist-packages (from trio~=0.17->selenium) (1.3.1)\n",
            "Requirement already satisfied: wsproto>=0.14 in /usr/local/lib/python3.11/dist-packages (from trio-websocket~=0.9->selenium) (1.2.0)\n",
            "Requirement already satisfied: pysocks!=1.5.7,<2.0,>=1.5.6 in /usr/local/lib/python3.11/dist-packages (from urllib3[socks]<3,>=1.26->selenium) (1.7.1)\n",
            "Requirement already satisfied: h11<1,>=0.9.0 in /usr/local/lib/python3.11/dist-packages (from wsproto>=0.14->trio-websocket~=0.9->selenium) (0.14.0)\n"
          ]
        }
      ]
    },
    {
      "cell_type": "code",
      "source": [
        "!apt-get install chromium-driver  #устанавливает системную программу"
      ],
      "metadata": {
        "collapsed": true,
        "colab": {
          "base_uri": "https://localhost:8080/"
        },
        "id": "i1luLDzPHbNT",
        "outputId": "b22fa347-ac18-419e-8baa-2a68449b1115"
      },
      "execution_count": 117,
      "outputs": [
        {
          "output_type": "stream",
          "name": "stdout",
          "text": [
            "Reading package lists... Done\n",
            "Building dependency tree... Done\n",
            "Reading state information... Done\n",
            "Note, selecting 'chromium-chromedriver' instead of 'chromium-driver'\n",
            "chromium-chromedriver is already the newest version (1:85.0.4183.83-0ubuntu2.22.04.1).\n",
            "0 upgraded, 0 newly installed, 0 to remove and 29 not upgraded.\n"
          ]
        }
      ]
    },
    {
      "cell_type": "code",
      "source": [
        "from selenium import webdriver\n",
        "from selenium.webdriver import Keys\n",
        "from selenium.webdriver.chrome.service import Service\n",
        "from selenium.webdriver.common.by import By\n",
        "import time"
      ],
      "metadata": {
        "id": "1TD576LK49oD"
      },
      "execution_count": 159,
      "outputs": []
    },
    {
      "cell_type": "code",
      "source": [
        "options = webdriver.ChromeOptions()\n",
        "options.add_argument(\"--verbose\") #Эта опция включает подробный вывод логов Chrome.\n",
        "options.add_argument('--headless')     #Не будет отображаться графический интерфейс браузера\n",
        "options.add_argument('--disable-gpu')  #, а только результат работы.\n",
        "options.add_argument('--no-sandbox')# Безопасный режим (требуется для Colab)"
      ],
      "metadata": {
        "id": "xFpOULxhH1hZ"
      },
      "execution_count": 119,
      "outputs": []
    },
    {
      "cell_type": "code",
      "source": [
        "driver = webdriver.Chrome(options=options)"
      ],
      "metadata": {
        "id": "R-4GEMtLRSHZ"
      },
      "execution_count": 131,
      "outputs": []
    },
    {
      "cell_type": "markdown",
      "source": [
        "С каждой страницы соберем названия ресторанов"
      ],
      "metadata": {
        "id": "XSIFtue6bdMh"
      }
    },
    {
      "cell_type": "code",
      "source": [
        "london_restaurant_names = set()\n",
        "url = f\"https://guide.michelin.com/gb/en/greater-london/london/restaurants/?sort=distance\"\n",
        "driver.get(url)\n",
        "time.sleep(3)  # Ждем загрузку страницы\n",
        "\n",
        "restaurant_elements = driver.find_elements(By.XPATH, '//a[contains(@href, \"/gb/en/greater-london/london/restaurant/\")]')\n",
        "for element in restaurant_elements:\n",
        "    name = element.get_attribute(\"aria-label\")\n",
        "    london_restaurant_names.add(name)\n",
        "\n",
        "print(\"Собраны рестораны с страницы 1\")"
      ],
      "metadata": {
        "colab": {
          "base_uri": "https://localhost:8080/"
        },
        "id": "Jz64CYBmRNea",
        "outputId": "86c51520-f6fe-4c57-efc0-6f492d45e6c5"
      },
      "execution_count": 151,
      "outputs": [
        {
          "output_type": "stream",
          "name": "stdout",
          "text": [
            "Собраны рестораны с страницы 1\n"
          ]
        }
      ]
    },
    {
      "cell_type": "code",
      "source": [
        "# Перебираем страницы от 2 до 17\n",
        "for page_number in range(2, 18):\n",
        "    url = f\"https://guide.michelin.com/gb/en/greater-london/london/restaurants/page/{page_number}?sort=distance\"\n",
        "    driver.get(url)\n",
        "    time.sleep(3)  # Ждем загрузку страницы\n",
        "\n",
        "    # Собираем ссылки на рестораны на текущей странице\n",
        "\n",
        "    restaurant_elements = driver.find_elements(By.XPATH, '//a[contains(@href, \"/gb/en/greater-london/london/restaurant/\")]')\n",
        "    for element in restaurant_elements:\n",
        "        name = element.get_attribute(\"aria-label\")\n",
        "        london_restaurant_names.add(name)\n",
        "\n",
        "    print(f\"Собраны рестораны с страницы {page_number}\")\n"
      ],
      "metadata": {
        "colab": {
          "base_uri": "https://localhost:8080/"
        },
        "id": "Cz3a7GxFA-e9",
        "outputId": "31508b55-2cf0-49e5-e100-2f3bbb31ae9f"
      },
      "execution_count": 152,
      "outputs": [
        {
          "output_type": "stream",
          "name": "stdout",
          "text": [
            "Собраны рестораны с страницы 2\n",
            "Собраны рестораны с страницы 3\n",
            "Собраны рестораны с страницы 4\n",
            "Собраны рестораны с страницы 5\n",
            "Собраны рестораны с страницы 6\n",
            "Собраны рестораны с страницы 7\n",
            "Собраны рестораны с страницы 8\n",
            "Собраны рестораны с страницы 9\n",
            "Собраны рестораны с страницы 10\n",
            "Собраны рестораны с страницы 11\n",
            "Собраны рестораны с страницы 12\n",
            "Собраны рестораны с страницы 13\n",
            "Собраны рестораны с страницы 14\n",
            "Собраны рестораны с страницы 15\n",
            "Собраны рестораны с страницы 16\n",
            "Собраны рестораны с страницы 17\n"
          ]
        }
      ]
    },
    {
      "cell_type": "code",
      "source": [
        "len(london_restaurant_names) #оставшиеся 4 (поиск пишет что нашел 338) - не Лондон. И лишний None"
      ],
      "metadata": {
        "colab": {
          "base_uri": "https://localhost:8080/"
        },
        "id": "7TEGFAkpoDTU",
        "outputId": "b756941d-eac0-471c-8706-d8cc9b1451c1"
      },
      "execution_count": 153,
      "outputs": [
        {
          "output_type": "execute_result",
          "data": {
            "text/plain": [
              "335"
            ]
          },
          "metadata": {},
          "execution_count": 153
        }
      ]
    },
    {
      "cell_type": "code",
      "source": [
        "# Создаем новое множество с обрезанными строками (там везде выводится сначала \"open\" а потом название)\n",
        "london_restaurant_names.discard(None)\n",
        "london_restaurant_names = {link[5:] for link in london_restaurant_names}"
      ],
      "metadata": {
        "id": "RNYnwerEUgpH"
      },
      "execution_count": 154,
      "outputs": []
    },
    {
      "cell_type": "code",
      "source": [
        "list(london_restaurant_names)"
      ],
      "metadata": {
        "colab": {
          "base_uri": "https://localhost:8080/"
        },
        "id": "uIOoVxQGTa91",
        "outputId": "1bc885f0-15f2-438f-d9fc-bb1f5c12a7e4"
      },
      "execution_count": 157,
      "outputs": [
        {
          "output_type": "execute_result",
          "data": {
            "text/plain": [
              "['Chishuru',\n",
              " 'El Pastor',\n",
              " 'Bancone',\n",
              " 'Paradise',\n",
              " 'Cabotte',\n",
              " 'Alain Ducasse at The Dorchester',\n",
              " 'Hatched',\n",
              " 'Kioku by Endo',\n",
              " 'Little Social',\n",
              " 'The Wigmore',\n",
              " 'Noizé',\n",
              " 'Tamarind Kitchen',\n",
              " 'Roketsu',\n",
              " 'Clipstone',\n",
              " 'CORE by Clare Smyth',\n",
              " 'Sune',\n",
              " 'Nanyang Blossom',\n",
              " \"Lyle's\",\n",
              " 'Pig and Butcher',\n",
              " \"Sam's Riverside\",\n",
              " 'Tendril',\n",
              " 'Lasdun',\n",
              " 'Archway',\n",
              " 'Elystan Street',\n",
              " 'Cycene',\n",
              " 'Donostia',\n",
              " 'Mayha',\n",
              " 'Quality Chop House',\n",
              " 'Benares',\n",
              " 'Mazi',\n",
              " 'Smokestak',\n",
              " 'Taku',\n",
              " 'Kiln',\n",
              " 'Bombay Bustle',\n",
              " 'Honey & Co',\n",
              " 'HIDE',\n",
              " 'St. JOHN',\n",
              " 'The French House',\n",
              " 'Aulis',\n",
              " 'Ekstedt at The Yard',\n",
              " 'Holy Carrot',\n",
              " 'Trishna',\n",
              " 'Hannah',\n",
              " 'Margot',\n",
              " 'Zoilo',\n",
              " 'The Ritz Restaurant',\n",
              " 'Akub',\n",
              " 'The Baring',\n",
              " 'River Restaurant by Gordon Ramsay',\n",
              " 'Evernight',\n",
              " 'Dinner by Heston Blumenthal',\n",
              " 'Counter 71',\n",
              " 'Claude Bosi at Bibendum',\n",
              " 'The Fuji Grill',\n",
              " 'Trinity',\n",
              " 'Heritage Dulwich',\n",
              " 'Mignonette',\n",
              " \"Julie's\",\n",
              " 'YiQi',\n",
              " 'Muse by Tom Aikens',\n",
              " 'Kudu Grill',\n",
              " 'Kai',\n",
              " 'Frog by Adam Handling',\n",
              " 'Llama Inn',\n",
              " \"Clarke's\",\n",
              " 'Sael',\n",
              " 'Victoria',\n",
              " 'Garrison',\n",
              " 'Brasserie Zédel',\n",
              " 'Delaunay',\n",
              " 'Murano',\n",
              " 'Fonda',\n",
              " 'River Café',\n",
              " 'Nest',\n",
              " 'Café Spice Namasté',\n",
              " 'Amaya',\n",
              " '45 Jermyn St',\n",
              " 'Clos Maggiore',\n",
              " 'Imperial Treasure',\n",
              " 'MiMi Mei Fair',\n",
              " 'Hélène Darroze at The Connaught',\n",
              " 'Angelina',\n",
              " 'Marksman',\n",
              " \"Fischer's\",\n",
              " 'Sketch, The Gallery',\n",
              " 'Josephine Bouchon',\n",
              " 'Arlington',\n",
              " 'Soif',\n",
              " 'City Social',\n",
              " \"Evelyn's Table\",\n",
              " 'Donia',\n",
              " 'Primeur',\n",
              " 'Sucre',\n",
              " 'Ikoyi',\n",
              " 'Wild Honey St James',\n",
              " 'Bistrot at Wild Honey',\n",
              " \"Mary's\",\n",
              " 'Chez Bruce',\n",
              " 'Dysart Petersham',\n",
              " 'Sollip',\n",
              " 'Pizarro',\n",
              " 'Sketch, The Lecture Room and Library',\n",
              " 'Le Pont de la Tour',\n",
              " 'The Twenty Two',\n",
              " 'Kanishka',\n",
              " 'Bocca di Lupo',\n",
              " 'Ibai',\n",
              " 'KOL',\n",
              " '104',\n",
              " 'Farang',\n",
              " 'Bob Bob Ricard Soho',\n",
              " 'Quilon',\n",
              " 'AGORA',\n",
              " 'Luca',\n",
              " 'Wildflowers',\n",
              " 'Dim Sum Duck',\n",
              " 'Hakkasan Mayfair',\n",
              " 'Lisboeta',\n",
              " 'Fallow',\n",
              " 'Olivomare',\n",
              " 'Decimo',\n",
              " 'Brat',\n",
              " 'Westerns Laundry',\n",
              " 'Tamil Prince',\n",
              " 'Bubala',\n",
              " 'Camille',\n",
              " 'Kateh',\n",
              " 'pahli hill',\n",
              " 'The Cocochine',\n",
              " 'Akara',\n",
              " 'Norma',\n",
              " 'BiBi',\n",
              " 'Santo Remedio',\n",
              " 'Kricket',\n",
              " '1890 by Gordon Ramsay',\n",
              " 'Artusi',\n",
              " 'Kudu',\n",
              " 'Six Portland Road',\n",
              " 'Pied à Terre',\n",
              " 'Tehran Berlin',\n",
              " 'Nobu London Old Park Lane',\n",
              " 'Portland',\n",
              " 'Plaquemine Lock',\n",
              " 'Veeraswamy',\n",
              " 'The Grill',\n",
              " 'Row on 5',\n",
              " 'Empire Empire',\n",
              " 'Popolo',\n",
              " 'Lurra',\n",
              " 'Story Cellar',\n",
              " 'Bellanger',\n",
              " 'Rules',\n",
              " 'Chapter One',\n",
              " 'Canton Blue',\n",
              " 'July',\n",
              " 'Park Chinois',\n",
              " 'Le Vacherin',\n",
              " 'Restaurant Gordon Ramsay',\n",
              " 'Gymkhana',\n",
              " 'Yauatcha Soho',\n",
              " 'Cloth',\n",
              " 'Angler',\n",
              " 'Gauthier - Soho',\n",
              " 'Planque',\n",
              " 'AngloThai',\n",
              " 'The Wolseley',\n",
              " 'J.Sheekey',\n",
              " 'The Hero',\n",
              " 'OMA',\n",
              " 'Medlar',\n",
              " 'Endo at The Rotunda',\n",
              " 'The Devonshire',\n",
              " 'Sexy Fish',\n",
              " 'Kitchen Table',\n",
              " 'Water House Project',\n",
              " 'Naïfs',\n",
              " 'NIJŪ',\n",
              " 'Akira',\n",
              " 'Savoy Grill',\n",
              " 'Cora Pearl',\n",
              " \"Corrigan's Mayfair\",\n",
              " 'Ochre',\n",
              " 'Mauro Colagreco at Raffles London at The OWO',\n",
              " 'Bar des Prés - Mayfair',\n",
              " 'The Barbary',\n",
              " 'José',\n",
              " 'Silver Birch',\n",
              " 'The Pelican',\n",
              " 'The Ninth',\n",
              " 'Da Terra',\n",
              " \"Scott's\",\n",
              " 'Dovetale',\n",
              " 'DOSA',\n",
              " 'Les 2 Garçons',\n",
              " \"Llewelyn's\",\n",
              " 'Through the Woods',\n",
              " 'Dorian',\n",
              " 'Sorella',\n",
              " 'The Harwood Arms',\n",
              " 'Upstairs (at Trinity)',\n",
              " 'Padella',\n",
              " 'Sushi Kanesaka',\n",
              " 'Mambow',\n",
              " 'Bull & Last',\n",
              " 'Morchella',\n",
              " 'Pollini at Ladbroke Hall',\n",
              " 'Moro',\n",
              " 'The Parakeet',\n",
              " 'Cavita',\n",
              " 'Club Gascon',\n",
              " 'Zuma',\n",
              " 'Noci',\n",
              " 'Petersham Nurseries Café',\n",
              " 'Trivet',\n",
              " 'Caractère',\n",
              " 'Humo',\n",
              " \"Quaglino's\",\n",
              " '64 Goodge Street',\n",
              " 'Palomar',\n",
              " 'Alex Dilling at Hotel Café Royal',\n",
              " 'Aragawa',\n",
              " 'Hoppers',\n",
              " 'A. Wong',\n",
              " 'Anchor & Hope',\n",
              " 'Tamarind',\n",
              " 'Sesta',\n",
              " 'Roe',\n",
              " 'Cantinetta Antinori',\n",
              " 'No. Fifty Cheyne',\n",
              " 'Hawksmoor',\n",
              " 'Spring',\n",
              " 'Zaika',\n",
              " 'Paulette',\n",
              " 'Darjeeling Express',\n",
              " 'Barshu',\n",
              " \"Lyon's\",\n",
              " 'Oren',\n",
              " 'Zahter',\n",
              " 'Chutney Mary',\n",
              " 'Wild Tavern',\n",
              " 'Lita',\n",
              " 'Drapers Arms',\n",
              " 'Akoko',\n",
              " 'Scully',\n",
              " 'Lima',\n",
              " 'Jamavar',\n",
              " 'Bala Baya',\n",
              " 'Volta Do Mar',\n",
              " 'Bouchon Racine',\n",
              " 'SO|LA',\n",
              " \"Franco's\",\n",
              " 'Amazonico',\n",
              " 'Plaza Khao Gaeng',\n",
              " 'Bob Bob Ricard City',\n",
              " 'Giulia',\n",
              " 'The Clarence Tavern',\n",
              " 'Brooklands by Claude Bosi',\n",
              " \"Whyte's\",\n",
              " \"Claude Bosi's Oyster Bar\",\n",
              " 'Rambutan',\n",
              " 'Elis',\n",
              " 'Barrafina',\n",
              " 'Bao',\n",
              " 'BiBo',\n",
              " 'Cafe Cecilia',\n",
              " 'Legare',\n",
              " 'Apricity',\n",
              " 'Kolae',\n",
              " 'Royal China Club',\n",
              " 'The Clove Club',\n",
              " 'Cornus',\n",
              " \"Imad's Syrian Kitchen\",\n",
              " 'The Pearly Queen',\n",
              " 'Provender',\n",
              " 'St. JOHN Bread and Wine',\n",
              " 'Trullo',\n",
              " 'Lucky Cat by Gordon Ramsay',\n",
              " 'Noble Rot',\n",
              " \"Stanley's\",\n",
              " 'Story',\n",
              " 'The Sea, The Sea',\n",
              " 'Brawn',\n",
              " 'Peckham Cellars',\n",
              " 'Les 110 de Taillevent',\n",
              " 'St. Barts',\n",
              " 'Café Deco',\n",
              " 'Miga',\n",
              " \"Charlie's\",\n",
              " \"Langan's Brasserie\",\n",
              " 'Gunpowder Spitalfields',\n",
              " 'Kitchen W8',\n",
              " \"Straker's\",\n",
              " 'Ambassadors Clubhouse',\n",
              " 'The Lanesborough Grill',\n",
              " 'Pavyllon London',\n",
              " 'Sabor',\n",
              " 'The Pem',\n",
              " 'Silo',\n",
              " 'Dining Room at The Goring',\n",
              " 'Three Darlings',\n",
              " 'Behind',\n",
              " 'Berenjak',\n",
              " 'Smoke & Salt',\n",
              " \"Ginza St James's\",\n",
              " 'Kinkally',\n",
              " 'Pétrus by Gordon Ramsay',\n",
              " 'Brigadiers',\n",
              " 'Jolene',\n",
              " 'Brutto',\n",
              " 'Casa Fofō',\n",
              " 'Mount St.',\n",
              " 'Arros QD',\n",
              " 'Lorne',\n",
              " 'Caia',\n",
              " 'The Park',\n",
              " 'The Holland',\n",
              " 'The Ledbury',\n",
              " 'Umu',\n",
              " 'Wild by Tart',\n",
              " 'Humble Chicken',\n",
              " 'Cord by Le Cordon Bleu',\n",
              " 'Maru',\n",
              " 'Nopi',\n",
              " 'Mountain',\n",
              " 'Ormer Mayfair',\n",
              " \"Kerridge's Bar & Grill\",\n",
              " 'Galvin La Chapelle',\n",
              " 'yeni',\n",
              " 'manteca',\n",
              " 'Sumi',\n",
              " 'Pophams',\n",
              " 'Takahashi',\n",
              " 'Plates London',\n",
              " 'La Trompette']"
            ]
          },
          "metadata": {},
          "execution_count": 157
        }
      ]
    },
    {
      "cell_type": "code",
      "source": [
        "# Сохранение в CSV файл\n",
        "import csv\n",
        "with open('restaurants_Michelin.csv', 'w', newline='', encoding='utf-8') as file:\n",
        "    writer = csv.writer(file)\n",
        "    for name in london_restaurant_names:\n",
        "        writer.writerow([name])"
      ],
      "metadata": {
        "id": "qVs6N6LEp7aM"
      },
      "execution_count": 162,
      "outputs": []
    }
  ]
}